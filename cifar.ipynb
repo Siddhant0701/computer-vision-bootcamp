{
 "cells": [
  {
   "cell_type": "code",
   "execution_count": 28,
   "metadata": {},
   "outputs": [],
   "source": [
    "## Importing Necessary Libraries\n",
    "import numpy as np\n",
    "\n",
    "import torch\n",
    "import torch.optim as optim\n",
    "import torch.nn as nn\n",
    "import torch.nn.functional as F\n",
    "\n",
    "import torchvision\n",
    "import torchvision.transforms as transforms"
   ]
  },
  {
   "cell_type": "code",
   "execution_count": 29,
   "metadata": {},
   "outputs": [],
   "source": [
    "## Hyperparameters\n",
    "\n",
    "EPOCHS = 5\n",
    "BATCH_SIZE = 8\n",
    "\n",
    "LEARNING_RATE = 0.001\n",
    "MOMENTUM = 0.9"
   ]
  },
  {
   "cell_type": "code",
   "execution_count": 30,
   "metadata": {},
   "outputs": [
    {
     "name": "stdout",
     "output_type": "stream",
     "text": [
      "Files already downloaded and verified\n",
      "Files already downloaded and verified\n"
     ]
    }
   ],
   "source": [
    "## Loading all Data\n",
    "\n",
    "transformations = transforms.Compose([\n",
    "        transforms.ToTensor(), # Convert PIL image to tensor\n",
    "        transforms.Normalize((0.5, 0.5, 0.5), (0.5, 0.5, 0.5)) # Normalize the tensor\n",
    "])\n",
    "\n",
    "training_set= torchvision.datasets.CIFAR10(root='./data', train=True, download=True, transform=transformations)\n",
    "training_loader = torch.utils.data.DataLoader(training_set, batch_size=BATCH_SIZE, shuffle=True)\n",
    "\n",
    "test_set= torchvision.datasets.CIFAR10(root='./data', train=False, download=True, transform=transformations)\n",
    "test_loader = torch.utils.data.DataLoader(test_set, batch_size=BATCH_SIZE, shuffle=False)\n",
    "\n",
    "classes = ['plane', 'car', 'bird', 'cat', 'deer', 'dog', 'frog', 'horse', 'ship', 'truck']"
   ]
  },
  {
   "cell_type": "code",
   "execution_count": 31,
   "metadata": {},
   "outputs": [],
   "source": [
    "## Defining the Neural Network\n",
    "\n",
    "class CNNModel(nn.Module):\n",
    "    def __init__(self):\n",
    "        super().__init__()\n",
    "\n",
    "        ## Pooling Layer\n",
    "        self.pooling = nn.MaxPool2d(2,2) # Defines the pooling layer for the CNN\n",
    "\n",
    "        ## Convolutional Layers\n",
    "        # Note: Input Channels = 3 for RGB images\n",
    "        self.convolutional_layer1 = nn.Conv2d(3, 8, 5) ##First convolutional layer\n",
    "        self.convolutional_layer2 = nn.Conv2d(8, 16, 5) ##Second convolutional layer\n",
    "\n",
    "        ## Dense Layers\n",
    "        self.Dense1 = nn.Linear(16*5*5, 120) ##First Dense layer\n",
    "        self.Dense2 = nn.Linear(120, 84) ##Second Dense layer\n",
    "        self.Dense3 = nn.Linear(84, 10) ##Third Dense layer\n",
    "        # Note: Output Channels = 10 for 10 classes\n",
    "\n",
    "\n",
    "    def forward(self, x):\n",
    "\n",
    "        ## Forward Propagation\n",
    "        x = self.pooling(F.relu(self.convolutional_layer1(x)))\n",
    "        x = self.pooling(F.relu(self.convolutional_layer2(x)))\n",
    "\n",
    "        ## Flatten the vector so it can be applied to the Dense layers\n",
    "        x = torch.flatten(x, 1)\n",
    "        \n",
    "        x = F.relu(self.Dense1(x))\n",
    "        x = F.relu(self.Dense2(x))\n",
    "        x = self.Dense3(x)\n",
    "        \n",
    "        return x\n",
    "\n",
    "myNetwork = CNNModel()"
   ]
  },
  {
   "cell_type": "code",
   "execution_count": 32,
   "metadata": {},
   "outputs": [],
   "source": [
    "## Loss Function and Optimizer\n",
    "\n",
    "loss_function = nn.CrossEntropyLoss() # Defines the loss function\n",
    "optimizer = optim.SGD(myNetwork.parameters(), lr=LEARNING_RATE, momentum=MOMENTUM) # Defines the optimizer"
   ]
  },
  {
   "cell_type": "code",
   "execution_count": 33,
   "metadata": {},
   "outputs": [
    {
     "name": "stdout",
     "output_type": "stream",
     "text": [
      "Epoch 1 of 5   Accuracy: 31.91%  Loss: 1.8285659185504914\n",
      "Epoch 2 of 5   Accuracy: 49.868%  Loss: 1.3833079930210113\n",
      "Epoch 3 of 5   Accuracy: 56.47%  Loss: 1.2140508589816092\n",
      "Epoch 4 of 5   Accuracy: 60.706%  Loss: 1.1064625477266312\n",
      "Epoch 5 of 5   Accuracy: 63.844%  Loss: 1.0228194849479197\n"
     ]
    }
   ],
   "source": [
    "## Training the Network\n",
    "\n",
    "training_losses = []\n",
    "training_accuracies = []\n",
    "\n",
    "for epoch in range(EPOCHS):\n",
    "\n",
    "    ## Running loss in a single epoch of training \n",
    "    epoch_loss = 0.\n",
    "    correct = 0.\n",
    "    total = 0\n",
    "\n",
    "    for i, data in enumerate(training_loader,0):\n",
    "\n",
    "        ## Extracting inputs and labels from the data\n",
    "        inputs, labels = data\n",
    "\n",
    "        ## Zeroing the gradients\n",
    "        optimizer.zero_grad()\n",
    "\n",
    "        initial_outputs = myNetwork(inputs) # Forward Propagation\n",
    "\n",
    "        predictions = torch.argmax(initial_outputs, dim=1) # Extracting the predictions\n",
    "        correct +=  (predictions == labels).sum().item() # Calculating the number of correct predictions\n",
    "        total += labels.size(0) # Calculating the total number of predictions\n",
    "\n",
    "        loss = loss_function(initial_outputs, labels) # Calculating the loss\n",
    "        loss.backward() # Backward Propagation\n",
    "        optimizer.step() # Updating the weights\n",
    "\n",
    "        ## Updating the loss for each batch\n",
    "        epoch_loss += loss.item()\n",
    "    \n",
    "    ## Printing the loss for each epoch\n",
    "    print(f'Epoch {epoch+1} of {EPOCHS}   Accuracy: {correct* 100/ total}%  Loss: {epoch_loss/len(training_loader)}')\n",
    "\n",
    "    ## Tracking Loss and Accuracy for each epoch \n",
    "    training_losses.append(epoch_loss/len(training_loader))\n",
    "    training_accuracies.append(correct* 100/ total)"
   ]
  },
  {
   "cell_type": "code",
   "execution_count": 35,
   "metadata": {},
   "outputs": [
    {
     "data": {
      "image/png": "[encoded data removed]",
      "text/plain": [
       "<Figure size 432x288 with 1 Axes>"
      ]
     },
     "metadata": {
      "needs_background": "light"
     },
     "output_type": "display_data"
    },
    {
     "data": {
      "image/png": "[encoded data removed]",
      "text/plain": [
       "<Figure size 432x288 with 1 Axes>"
      ]
     },
     "metadata": {
      "needs_background": "light"
     },
     "output_type": "display_data"
    }
   ],
   "source": [
    "import matplotlib.pyplot as plt\n",
    "\n",
    "## Plotting the Loss and Accuracy\n",
    "\n",
    "plt.plot(training_losses)\n",
    "plt.title('Loss')\n",
    "plt.show()\n",
    "\n",
    "plt.plot(training_accuracies)\n",
    "plt.title('Accuracy')\n",
    "plt.show()"
   ]
  },
  {
   "cell_type": "code",
   "execution_count": 36,
   "metadata": {},
   "outputs": [
    {
     "name": "stdout",
     "output_type": "stream",
     "text": [
      "Accuracy of the network on the test images: 61.66%\n"
     ]
    }
   ],
   "source": [
    "## Testing the Network\n",
    "\n",
    "correct = 0.\n",
    "total = 0\n",
    "\n",
    "with torch.no_grad():\n",
    "    for data in test_loader:\n",
    "        images, labels = data\n",
    "        outputs = myNetwork(images)\n",
    "        predictions = torch.argmax(outputs, dim=1)\n",
    "        correct += (predictions == labels).sum().item()\n",
    "        total += labels.size(0)\n",
    "\n",
    "print(f'Accuracy of the network on the test images: {correct* 100/ total}%')"
   ]
  }
 ],
 "metadata": {
  "kernelspec": {
   "display_name": "Python 3.9.0 64-bit",
   "language": "python",
   "name": "python3"
  },
  "language_info": {
   "codemirror_mode": {
    "name": "ipython",
    "version": 3
   },
   "file_extension": ".py",
   "mimetype": "text/x-python",
   "name": "python",
   "nbconvert_exporter": "python",
   "pygments_lexer": "ipython3",
   "version": "3.9.0"
  },
  "orig_nbformat": 4,
  "vscode": {
   "interpreter": {
    "hash": "11938c6bc6919ae2720b4d5011047913343b08a43b18698fd82dedb0d4417594"
   }
  }
 },
 "nbformat": 4,
 "nbformat_minor": 2
}
